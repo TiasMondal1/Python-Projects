{
 "cells": [
  {
   "cell_type": "markdown",
   "metadata": {},
   "source": [
    "# Heart Disease Prediction"
   ]
  },
  {
   "cell_type": "code",
   "execution_count": 4,
   "metadata": {},
   "outputs": [],
   "source": [
    "import pandas as pd\n",
    "import numpy as np\n",
    "import matplotlib.pyplot as plt"
   ]
  },
  {
   "cell_type": "code",
   "execution_count": 5,
   "metadata": {},
   "outputs": [],
   "source": [
    "df = pd.read_csv(r\"/Users/tiasmondal166/python_Projects/heart_disease_prediction/HeartAttack.csv\")"
   ]
  },
  {
   "cell_type": "code",
   "execution_count": 7,
   "metadata": {},
   "outputs": [
    {
     "data": {
      "text/plain": [
       "<bound method NDFrame.head of      age  sex  cp trestbps chol fbs restecg thalach exang  oldpeak slope ca  \\\n",
       "0     28    1   2      130  132   0       2     185     0      0.0     ?  ?   \n",
       "1     29    1   2      120  243   0       0     160     0      0.0     ?  ?   \n",
       "2     29    1   2      140    ?   0       0     170     0      0.0     ?  ?   \n",
       "3     30    0   1      170  237   0       1     170     0      0.0     ?  ?   \n",
       "4     31    0   2      100  219   0       1     150     0      0.0     ?  ?   \n",
       "..   ...  ...  ..      ...  ...  ..     ...     ...   ...      ...   ... ..   \n",
       "289   52    1   4      160  331   0       0      94     1      2.5     ?  ?   \n",
       "290   54    0   3      130  294   0       1     100     1      0.0     2  ?   \n",
       "291   56    1   4      155  342   1       0     150     1      3.0     2  ?   \n",
       "292   58    0   2      180  393   0       0     110     1      1.0     2  ?   \n",
       "293   65    1   4      130  275   0       1     115     1      1.0     2  ?   \n",
       "\n",
       "    thal  num         \n",
       "0      ?           0  \n",
       "1      ?           0  \n",
       "2      ?           0  \n",
       "3      6           0  \n",
       "4      ?           0  \n",
       "..   ...         ...  \n",
       "289    ?           1  \n",
       "290    ?           1  \n",
       "291    ?           1  \n",
       "292    7           1  \n",
       "293    ?           1  \n",
       "\n",
       "[294 rows x 14 columns]>"
      ]
     },
     "execution_count": 7,
     "metadata": {},
     "output_type": "execute_result"
    }
   ],
   "source": [
    "df.head"
   ]
  },
  {
   "cell_type": "code",
   "execution_count": null,
   "metadata": {},
   "outputs": [],
   "source": []
  }
 ],
 "metadata": {
  "kernelspec": {
   "display_name": "base",
   "language": "python",
   "name": "python3"
  },
  "language_info": {
   "codemirror_mode": {
    "name": "ipython",
    "version": 3
   },
   "file_extension": ".py",
   "mimetype": "text/x-python",
   "name": "python",
   "nbconvert_exporter": "python",
   "pygments_lexer": "ipython3",
   "version": "3.11.5"
  }
 },
 "nbformat": 4,
 "nbformat_minor": 2
}
